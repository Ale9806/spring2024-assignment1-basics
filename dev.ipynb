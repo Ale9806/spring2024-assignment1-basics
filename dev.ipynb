{
 "cells": [
  {
   "cell_type": "code",
   "execution_count": 13,
   "metadata": {},
   "outputs": [],
   "source": [
    "from src.tokenizer.tokenizer  import Tokenizer,pre_tokenize_corpus\n",
    "import os"
   ]
  },
  {
   "cell_type": "code",
   "execution_count": 12,
   "metadata": {},
   "outputs": [],
   "source": [
    "output_path   = os.path.join(\"outputs\",\"TinyStoriesV2-GPT4-train\")\n",
    "vocab_path    = os.path.join(output_path,\"vocab.pkl\")\n",
    "merges_path   = os.path.join(output_path,\"merges.pkl\")\n",
    "bpe_tokenizer = Tokenizer.from_files(vocab_filepath=vocab_path,merges_filepath=merges_path,special_tokens=[\"aalakbhaa\"])"
   ]
  },
  {
   "cell_type": "code",
   "execution_count": 24,
   "metadata": {},
   "outputs": [],
   "source": [
    "pre_tokenize_text =pre_tokenize_corpus('🙃')\n",
    "splits:dict[str,tuple[bytes]]   = {word: list(bytes((i,)) for i in word.encode('utf-8')) for word in pre_tokenize_text}"
   ]
  },
  {
   "cell_type": "code",
   "execution_count": 36,
   "metadata": {},
   "outputs": [],
   "source": [
    "text        =\"Hello, how are you?\"\n",
    "encode_text = bpe_tokenizer.encode(text)\n",
    "byte_list = bpe_tokenizer.dic_lookup(encode_text,bpe_tokenizer.vocab)"
   ]
  },
  {
   "cell_type": "code",
   "execution_count": 37,
   "metadata": {},
   "outputs": [
    {
     "data": {
      "text/plain": [
       "[1033, 294, 112, 45, 268, 320, 259, 273, 333, 275, 64]"
      ]
     },
     "execution_count": 37,
     "metadata": {},
     "output_type": "execute_result"
    }
   ],
   "source": [
    "encode_text"
   ]
  },
  {
   "cell_type": "code",
   "execution_count": 33,
   "metadata": {},
   "outputs": [],
   "source": [
    "concatenated_bytes = b''.join(byte_list)"
   ]
  },
  {
   "cell_type": "code",
   "execution_count": 35,
   "metadata": {},
   "outputs": [
    {
     "data": {
      "text/plain": [
       "'🙃'"
      ]
     },
     "execution_count": 35,
     "metadata": {},
     "output_type": "execute_result"
    }
   ],
   "source": [
    "concatenated_bytes.decode()"
   ]
  },
  {
   "cell_type": "code",
   "execution_count": 4,
   "metadata": {},
   "outputs": [
    {
     "data": {
      "text/plain": [
       "'the cat ate sparragous'"
      ]
     },
     "execution_count": 4,
     "metadata": {},
     "output_type": "execute_result"
    }
   ],
   "source": [
    "bpe_tokenizer.decode(encode_text)"
   ]
  },
  {
   "cell_type": "code",
   "execution_count": 6,
   "metadata": {},
   "outputs": [],
   "source": [
    "n=len(encode_text)\n",
    "encode_text_merged = [None]*n\n",
    "for i in range(0,n):\n",
    "    encode_text_merged[i] = bpe_tokenizer.vocab[encode_text[i]]"
   ]
  },
  {
   "cell_type": "code",
   "execution_count": 6,
   "metadata": {},
   "outputs": [
    {
     "ename": "ValueError",
     "evalue": "byte must be in range(0, 256)",
     "output_type": "error",
     "traceback": [
      "\u001b[0;31m---------------------------------------------------------------------------\u001b[0m",
      "\u001b[0;31mValueError\u001b[0m                                Traceback (most recent call last)",
      "Cell \u001b[0;32mIn[6], line 1\u001b[0m\n\u001b[0;32m----> 1\u001b[0m byte_array \u001b[38;5;241m=\u001b[39m \u001b[38;5;28;43mbytearray\u001b[39;49m\u001b[43m(\u001b[49m\u001b[43mencode_text\u001b[49m\u001b[43m)\u001b[49m  \u001b[38;5;66;03m# Convert the list to a bytearray\u001b[39;00m\n\u001b[1;32m      3\u001b[0m \u001b[38;5;66;03m# Decode the bytearray into a string using the appropriate encoding (e.g., UTF-8)\u001b[39;00m\n\u001b[1;32m      4\u001b[0m result_string \u001b[38;5;241m=\u001b[39m byte_array\u001b[38;5;241m.\u001b[39mdecode(\u001b[38;5;124m\"\u001b[39m\u001b[38;5;124mutf-8\u001b[39m\u001b[38;5;124m\"\u001b[39m)\n",
      "\u001b[0;31mValueError\u001b[0m: byte must be in range(0, 256)"
     ]
    }
   ],
   "source": [
    "byte_array = bytearray(encode_text)  # Convert the list to a bytearray\n",
    "\n",
    "# Decode the bytearray into a string using the appropriate encoding (e.g., UTF-8)\n",
    "result_string = byte_array.decode(\"utf-8\")"
   ]
  },
  {
   "cell_type": "code",
   "execution_count": 25,
   "metadata": {},
   "outputs": [],
   "source": [
    "n=len(encode_text)\n",
    "encode_text_merged = [None]*n\n",
    "for i in range(0,n):\n",
    "    encode_text_merged[i] = bpe_tokenizer.inv_vocab[encode_text[i]]"
   ]
  },
  {
   "cell_type": "code",
   "execution_count": 26,
   "metadata": {},
   "outputs": [
    {
     "data": {
      "text/plain": [
       "[1002, 102, 278, 297, 259, 4226, 260, 2564, 5300, 550, 275, 116]"
      ]
     },
     "execution_count": 26,
     "metadata": {},
     "output_type": "execute_result"
    }
   ],
   "source": [
    "encode_text_merged"
   ]
  },
  {
   "cell_type": "code",
   "execution_count": 14,
   "metadata": {},
   "outputs": [
    {
     "data": {
      "text/plain": [
       "b'th'"
      ]
     },
     "execution_count": 14,
     "metadata": {},
     "output_type": "execute_result"
    }
   ],
   "source": [
    "word"
   ]
  },
  {
   "cell_type": "code",
   "execution_count": 12,
   "metadata": {},
   "outputs": [
    {
     "data": {
      "text/plain": [
       "1002"
      ]
     },
     "execution_count": 12,
     "metadata": {},
     "output_type": "execute_result"
    }
   ],
   "source": [
    "for \n",
    "bpe_tokenizer.inv_vocab[encode_text[0]]"
   ]
  },
  {
   "cell_type": "code",
   "execution_count": 4,
   "metadata": {},
   "outputs": [
    {
     "data": {
      "text/plain": [
       "[b'th',\n",
       " b'e',\n",
       " b' c',\n",
       " b'at',\n",
       " b' a',\n",
       " b'te',\n",
       " b' s',\n",
       " b'pa',\n",
       " b'rr',\n",
       " b'ag',\n",
       " b'ou',\n",
       " b's']"
      ]
     },
     "execution_count": 4,
     "metadata": {},
     "output_type": "execute_result"
    }
   ],
   "source": [
    "encode_text"
   ]
  },
  {
   "cell_type": "code",
   "execution_count": 135,
   "metadata": {},
   "outputs": [
    {
     "data": {
      "text/plain": [
       "{'the': [b'th', b'e'],\n",
       " ' cat': [b' c', b'at'],\n",
       " ' ate': [b' a', b'te'],\n",
       " ' sparragous': [b' s', b'pa', b'rr', b'ag', b'ou', b's']}"
      ]
     },
     "execution_count": 135,
     "metadata": {},
     "output_type": "execute_result"
    }
   ],
   "source": [
    "splits"
   ]
  },
  {
   "cell_type": "code",
   "execution_count": 127,
   "metadata": {},
   "outputs": [
    {
     "ename": "TypeError",
     "evalue": "list indices must be integers or slices, not str",
     "output_type": "error",
     "traceback": [
      "\u001b[0;31m---------------------------------------------------------------------------\u001b[0m",
      "\u001b[0;31mTypeError\u001b[0m                                 Traceback (most recent call last)",
      "Cell \u001b[0;32mIn[127], line 1\u001b[0m\n\u001b[0;32m----> 1\u001b[0m \u001b[43mmerges\u001b[49m\u001b[43m[\u001b[49m\u001b[43mword\u001b[49m\u001b[43m]\u001b[49m\n",
      "\u001b[0;31mTypeError\u001b[0m: list indices must be integers or slices, not str"
     ]
    }
   ],
   "source": [
    "merges[word]"
   ]
  },
  {
   "cell_type": "code",
   "execution_count": 133,
   "metadata": {},
   "outputs": [],
   "source": [
    "encode_text_merged:list[bytes] = []\n",
    "for word in encode_text:\n",
    "    encode_text_merged.extend(splits[word])\n"
   ]
  },
  {
   "cell_type": "code",
   "execution_count": 134,
   "metadata": {},
   "outputs": [
    {
     "data": {
      "text/plain": [
       "[b'th',\n",
       " b'e',\n",
       " b' c',\n",
       " b'at',\n",
       " b' a',\n",
       " b'te',\n",
       " b' s',\n",
       " b'pa',\n",
       " b'rr',\n",
       " b'ag',\n",
       " b'ou',\n",
       " b's']"
      ]
     },
     "execution_count": 134,
     "metadata": {},
     "output_type": "execute_result"
    }
   ],
   "source": [
    "encode_text_merged"
   ]
  },
  {
   "cell_type": "code",
   "execution_count": 125,
   "metadata": {},
   "outputs": [
    {
     "data": {
      "text/plain": [
       "['the', ' cat', ' ate', ' sparragous']"
      ]
     },
     "execution_count": 125,
     "metadata": {},
     "output_type": "execute_result"
    }
   ],
   "source": [
    "encode_text"
   ]
  },
  {
   "cell_type": "code",
   "execution_count": null,
   "metadata": {},
   "outputs": [],
   "source": []
  },
  {
   "cell_type": "code",
   "execution_count": 120,
   "metadata": {},
   "outputs": [],
   "source": [
    "\n",
    "for word,values in splits.items():\n",
    "    word_length  = len(values)\n",
    "    i = 0 \n",
    "    while i +1 < word_length:\n",
    "        if (values[i],values[i+1]) in merges:\n",
    "            values[i+1] = values[i] + values[i+1]\n",
    "            values.pop(i)\n",
    "            word_length  = len(values)\n",
    "\n",
    "        i+=1\n",
    "\n",
    "\n",
    "    splits[word] = values\n",
    "            \n",
    "\n",
    "\n",
    "\n"
   ]
  },
  {
   "cell_type": "code",
   "execution_count": 123,
   "metadata": {},
   "outputs": [
    {
     "data": {
      "text/plain": [
       "{'the': [b'th', b'e'],\n",
       " ' cat': [b' c', b'at'],\n",
       " ' ate': [b' a', b'te'],\n",
       " ' sparragous': [b' s', b'pa', b'rr', b'ag', b'ou', b's']}"
      ]
     },
     "execution_count": 123,
     "metadata": {},
     "output_type": "execute_result"
    }
   ],
   "source": [
    "splits\n"
   ]
  },
  {
   "cell_type": "code",
   "execution_count": null,
   "metadata": {},
   "outputs": [
    {
     "data": {
      "text/plain": [
       "True"
      ]
     },
     "execution_count": 30,
     "metadata": {},
     "output_type": "execute_result"
    }
   ],
   "source": []
  },
  {
   "cell_type": "code",
   "execution_count": null,
   "metadata": {},
   "outputs": [
    {
     "data": {
      "text/plain": [
       "[(b' ', b't'),\n",
       " (b' ', b'a'),\n",
       " (b'h', b'e'),\n",
       " (b'i', b'n'),\n",
       " (b' t', b'he'),\n",
       " (b'r', b'e'),\n",
       " (b' ', b'o'),\n",
       " (b' ', b','),\n",
       " (b'e', b'r'),\n",
       " (b' ', b's'),\n",
       " (b'a', b't'),\n",
       " (b' ', b'.'),\n",
       " (b'n', b'd'),\n",
       " (b'i', b's'),\n",
       " (b'o', b'r'),\n",
       " (b' ', b'w'),\n",
       " (b' ', b'c'),\n",
       " (b'o', b'n'),\n",
       " (b' ', b'b'),\n",
       " (b' ', b'f'),\n",
       " (b'o', b'u'),\n",
       " (b'i', b't'),\n",
       " (b'e', b'n'),\n",
       " (b'e', b's'),\n",
       " (b' o', b'f'),\n",
       " (b' ', b'p'),\n",
       " (b'in', b'g'),\n",
       " (b' ', b'in'),\n",
       " (b'e', b'd'),\n",
       " (b'a', b'l'),\n",
       " (b' ', b'm'),\n",
       " (b' a', b'nd'),\n",
       " (b' ', b'd'),\n",
       " (b'a', b'n'),\n",
       " (b'a', b'r'),\n",
       " (b' t', b'o'),\n",
       " (b'o', b'm'),\n",
       " (b' t', b'h'),\n",
       " (b'i', b'c'),\n",
       " (b'i', b'on'),\n",
       " (b' ', b'h'),\n",
       " (b' ', b'l'),\n",
       " (b' ', b'y')]"
      ]
     },
     "execution_count": 16,
     "metadata": {},
     "output_type": "execute_result"
    }
   ],
   "source": [
    "merges"
   ]
  },
  {
   "cell_type": "code",
   "execution_count": null,
   "metadata": {},
   "outputs": [],
   "source": []
  }
 ],
 "metadata": {
  "kernelspec": {
   "display_name": "cs336_a1",
   "language": "python",
   "name": "python3"
  },
  "language_info": {
   "codemirror_mode": {
    "name": "ipython",
    "version": 3
   },
   "file_extension": ".py",
   "mimetype": "text/x-python",
   "name": "python",
   "nbconvert_exporter": "python",
   "pygments_lexer": "ipython3",
   "version": "3.9.19"
  }
 },
 "nbformat": 4,
 "nbformat_minor": 2
}
